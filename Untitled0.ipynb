{
  "nbformat": 4,
  "nbformat_minor": 0,
  "metadata": {
    "colab": {
      "name": "Untitled0.ipynb",
      "provenance": [],
      "authorship_tag": "ABX9TyOFY/Fg20ZIOKgz5YzwvdAE",
      "include_colab_link": true
    },
    "kernelspec": {
      "name": "python3",
      "display_name": "Python 3"
    },
    "language_info": {
      "name": "python"
    }
  },
  "cells": [
    {
      "cell_type": "markdown",
      "metadata": {
        "id": "view-in-github",
        "colab_type": "text"
      },
      "source": [
        "<a href=\"https://colab.research.google.com/github/Ishan402/Java-Assignments-Array/blob/master/Untitled0.ipynb\" target=\"_parent\"><img src=\"https://colab.research.google.com/assets/colab-badge.svg\" alt=\"Open In Colab\"/></a>"
      ]
    },
    {
      "cell_type": "code",
      "execution_count": 2,
      "metadata": {
        "colab": {
          "base_uri": "https://localhost:8080/"
        },
        "id": "gqq_0F29yNMe",
        "outputId": "7efc6cfd-28c3-4c6b-e356-38cbc9577243"
      },
      "outputs": [
        {
          "output_type": "stream",
          "name": "stdout",
          "text": [
            "Check whether it is prime or not\n",
            "Enter any number : \n",
            "11\n",
            "11 is a prime number\n"
          ]
        }
      ],
      "source": [
        "print(\"Check whether it is prime or not\")\n",
        "num = int(input(\"Enter any number : \\n\"))\n",
        "\n",
        "flag = False\n",
        "index =2\n",
        "\n",
        "if(num==0 or num==1):\n",
        "  print(\"{} is neither prime nor composite number\".format(num))\n",
        "\n",
        "else:\n",
        " \n",
        "  while(index<num):\n",
        "    if(num % index == 0):\n",
        "      flag = True\n",
        "      print(\"{} is divisible by {}\".format(num, index))\n",
        "    index+=1\n",
        "\n",
        "  if(flag==True):\n",
        "    print(\"{} is a composite number\".format(num))\n",
        "  else:\n",
        "    print(\"{} is a prime number\".format(num))\n",
        "\n",
        "\n",
        "\n",
        "  "
      ]
    },
    {
      "cell_type": "code",
      "source": [
        ""
      ],
      "metadata": {
        "id": "-4OCpoxiyRuz"
      },
      "execution_count": 2,
      "outputs": []
    }
  ]
}